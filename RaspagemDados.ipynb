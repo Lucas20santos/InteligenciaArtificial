{
  "nbformat": 4,
  "nbformat_minor": 0,
  "metadata": {
    "colab": {
      "name": "RaspagemDados.ipynb",
      "provenance": [],
      "authorship_tag": "ABX9TyPsXr1NMu5BeyOCoeEKwrqV",
      "include_colab_link": true
    },
    "kernelspec": {
      "name": "python3",
      "display_name": "Python 3"
    },
    "language_info": {
      "name": "python"
    }
  },
  "cells": [
    {
      "cell_type": "markdown",
      "metadata": {
        "id": "view-in-github",
        "colab_type": "text"
      },
      "source": [
        "<a href=\"https://colab.research.google.com/github/Lucas20santos/InteligenciaArtificial/blob/main/RaspagemDados.ipynb\" target=\"_parent\"><img src=\"https://colab.research.google.com/assets/colab-badge.svg\" alt=\"Open In Colab\"/></a>"
      ]
    },
    {
      "cell_type": "code",
      "metadata": {
        "colab": {
          "base_uri": "https://localhost:8080/"
        },
        "id": "ls_XUs-8Ugzo",
        "outputId": "d891923b-bcf8-4fe5-a033-710c122d8f03"
      },
      "source": [
        "!pip install -q kora"
      ],
      "execution_count": null,
      "outputs": [
        {
          "output_type": "stream",
          "text": [
            "\u001b[?25l\r\u001b[K     |█████▊                          | 10 kB 23.1 MB/s eta 0:00:01\r\u001b[K     |███████████▍                    | 20 kB 30.2 MB/s eta 0:00:01\r\u001b[K     |█████████████████               | 30 kB 37.3 MB/s eta 0:00:01\r\u001b[K     |██████████████████████▊         | 40 kB 31.6 MB/s eta 0:00:01\r\u001b[K     |████████████████████████████▍   | 51 kB 20.1 MB/s eta 0:00:01\r\u001b[K     |████████████████████████████████| 57 kB 4.5 MB/s \n",
            "\u001b[?25h\u001b[?25l\r\u001b[K     |██████                          | 10 kB 23.4 MB/s eta 0:00:01\r\u001b[K     |████████████▏                   | 20 kB 32.6 MB/s eta 0:00:01\r\u001b[K     |██████████████████▎             | 30 kB 40.4 MB/s eta 0:00:01\r\u001b[K     |████████████████████████▍       | 40 kB 28.9 MB/s eta 0:00:01\r\u001b[K     |██████████████████████████████▌ | 51 kB 32.5 MB/s eta 0:00:01\r\u001b[K     |████████████████████████████████| 53 kB 2.2 MB/s \n",
            "\u001b[?25h"
          ],
          "name": "stdout"
        }
      ]
    },
    {
      "cell_type": "code",
      "metadata": {
        "id": "E7tgox4ATl4D"
      },
      "source": [
        "from kora.selenium import wd\n",
        "\n",
        "import pandas as pd\n",
        "from google.colab.data_table import DataTable\n",
        "from time import sleep\n"
      ],
      "execution_count": null,
      "outputs": []
    },
    {
      "cell_type": "code",
      "metadata": {
        "id": "CN56Nsx3SOvI"
      },
      "source": [
        "def busca_carteira_teorica(indice, espera=8):\n",
        "  url = f\"https://sistemaswebb3-listados.b3.com.br/indexPage/day/{indice.upper()}?language=pt-br\"\n",
        "  wd.get(url)\n",
        "  sleep(espera)\n",
        "\n",
        "  wd.find_element_by_id('segment').send_keys(\"Setor de Atuação\")\n",
        "  sleep(espera)\n",
        "\n",
        "  wd.find_element_by_link_text(\"Download\").click()\n",
        "  sleep(espera)\n",
        "\n",
        "  arquivos = !ls -1t *.csv\n",
        "  return pd.read_csv(arquivos[0], sep=\";\", encoding=\"ISO-8859-1\", skipfooter=2, engine='python', thousands='.', decimal=',', header=1, index_col=False)\n",
        "  "
      ],
      "execution_count": null,
      "outputs": []
    },
    {
      "cell_type": "code",
      "metadata": {
        "id": "OdGOHVD4Xg4u"
      },
      "source": [
        "ibov = busca_carteira_teorica('ibov')"
      ],
      "execution_count": null,
      "outputs": []
    },
    {
      "cell_type": "code",
      "metadata": {
        "id": "ooLBaUAXXv2I",
        "colab": {
          "base_uri": "https://localhost:8080/"
        },
        "outputId": "3b105ee4-21d2-4806-9a04-5e3e2509df14"
      },
      "source": [
        "ibov"
      ],
      "execution_count": null,
      "outputs": [
        {
          "output_type": "execute_result",
          "data": {
            "text/html": [
              "<div>\n",
              "<style scoped>\n",
              "    .dataframe tbody tr th:only-of-type {\n",
              "        vertical-align: middle;\n",
              "    }\n",
              "\n",
              "    .dataframe tbody tr th {\n",
              "        vertical-align: top;\n",
              "    }\n",
              "\n",
              "    .dataframe thead th {\n",
              "        text-align: right;\n",
              "    }\n",
              "</style>\n",
              "<table border=\"1\" class=\"dataframe\">\n",
              "  <thead>\n",
              "    <tr style=\"text-align: right;\">\n",
              "      <th></th>\n",
              "      <th>Setor</th>\n",
              "      <th>Código</th>\n",
              "      <th>Ação</th>\n",
              "      <th>Tipo</th>\n",
              "      <th>Qtde. Teórica</th>\n",
              "      <th>Part. (%)</th>\n",
              "      <th>Part. (%)Acum.</th>\n",
              "    </tr>\n",
              "  </thead>\n",
              "  <tbody>\n",
              "    <tr>\n",
              "      <th>0</th>\n",
              "      <td>Bens Indls / Máqs e Equips</td>\n",
              "      <td>WEGE3</td>\n",
              "      <td>WEG</td>\n",
              "      <td>ON      NM</td>\n",
              "      <td>1482296002</td>\n",
              "      <td>2.409</td>\n",
              "      <td>2.409</td>\n",
              "    </tr>\n",
              "    <tr>\n",
              "      <th>1</th>\n",
              "      <td>Bens Indls / Mat Transporte</td>\n",
              "      <td>EMBR3</td>\n",
              "      <td>EMBRAER</td>\n",
              "      <td>ON      NM</td>\n",
              "      <td>736143105</td>\n",
              "      <td>0.623</td>\n",
              "      <td>0.623</td>\n",
              "    </tr>\n",
              "    <tr>\n",
              "      <th>2</th>\n",
              "      <td>Bens Indls/Transporte</td>\n",
              "      <td>AZUL4</td>\n",
              "      <td>AZUL</td>\n",
              "      <td>PN      N2</td>\n",
              "      <td>327262616</td>\n",
              "      <td>0.582</td>\n",
              "      <td>2.705</td>\n",
              "    </tr>\n",
              "    <tr>\n",
              "      <th>3</th>\n",
              "      <td>Bens Indls/Transporte</td>\n",
              "      <td>CCRO3</td>\n",
              "      <td>CCR SA</td>\n",
              "      <td>ON      NM</td>\n",
              "      <td>1115693556</td>\n",
              "      <td>0.664</td>\n",
              "      <td>2.705</td>\n",
              "    </tr>\n",
              "    <tr>\n",
              "      <th>4</th>\n",
              "      <td>Bens Indls/Transporte</td>\n",
              "      <td>ECOR3</td>\n",
              "      <td>ECORODOVIAS</td>\n",
              "      <td>ON      NM</td>\n",
              "      <td>330237914</td>\n",
              "      <td>0.166</td>\n",
              "      <td>2.705</td>\n",
              "    </tr>\n",
              "    <tr>\n",
              "      <th>...</th>\n",
              "      <td>...</td>\n",
              "      <td>...</td>\n",
              "      <td>...</td>\n",
              "      <td>...</td>\n",
              "      <td>...</td>\n",
              "      <td>...</td>\n",
              "      <td>...</td>\n",
              "    </tr>\n",
              "    <tr>\n",
              "      <th>79</th>\n",
              "      <td>Utilidade Públ / Energ Elétrica</td>\n",
              "      <td>ENGI11</td>\n",
              "      <td>ENERGISA</td>\n",
              "      <td>UNT     N2</td>\n",
              "      <td>250679709</td>\n",
              "      <td>0.487</td>\n",
              "      <td>5.561</td>\n",
              "    </tr>\n",
              "    <tr>\n",
              "      <th>80</th>\n",
              "      <td>Utilidade Públ / Energ Elétrica</td>\n",
              "      <td>ENEV3</td>\n",
              "      <td>ENEVA</td>\n",
              "      <td>ON      NM</td>\n",
              "      <td>1248545726</td>\n",
              "      <td>0.915</td>\n",
              "      <td>5.561</td>\n",
              "    </tr>\n",
              "    <tr>\n",
              "      <th>81</th>\n",
              "      <td>Utilidade Públ / Energ Elétrica</td>\n",
              "      <td>EGIE3</td>\n",
              "      <td>ENGIE BRASIL</td>\n",
              "      <td>ON      NM</td>\n",
              "      <td>254792279</td>\n",
              "      <td>0.434</td>\n",
              "      <td>5.561</td>\n",
              "    </tr>\n",
              "    <tr>\n",
              "      <th>82</th>\n",
              "      <td>Utilidade Públ / Energ Elétrica</td>\n",
              "      <td>EQTL3</td>\n",
              "      <td>EQUATORIAL</td>\n",
              "      <td>ON      NM</td>\n",
              "      <td>1010286085</td>\n",
              "      <td>1.103</td>\n",
              "      <td>5.561</td>\n",
              "    </tr>\n",
              "    <tr>\n",
              "      <th>83</th>\n",
              "      <td>Utilidade Públ / Energ Elétrica</td>\n",
              "      <td>TAEE11</td>\n",
              "      <td>TAESA</td>\n",
              "      <td>UNT     N2</td>\n",
              "      <td>218568274</td>\n",
              "      <td>0.367</td>\n",
              "      <td>5.561</td>\n",
              "    </tr>\n",
              "  </tbody>\n",
              "</table>\n",
              "<p>84 rows × 7 columns</p>\n",
              "</div>"
            ],
            "text/plain": [
              "                              Setor  Código  ... Part. (%) Part. (%)Acum.\n",
              "0        Bens Indls / Máqs e Equips   WEGE3  ...     2.409          2.409\n",
              "1       Bens Indls / Mat Transporte   EMBR3  ...     0.623          0.623\n",
              "2             Bens Indls/Transporte   AZUL4  ...     0.582          2.705\n",
              "3             Bens Indls/Transporte   CCRO3  ...     0.664          2.705\n",
              "4             Bens Indls/Transporte   ECOR3  ...     0.166          2.705\n",
              "..                              ...     ...  ...       ...            ...\n",
              "79  Utilidade Públ / Energ Elétrica  ENGI11  ...     0.487          5.561\n",
              "80  Utilidade Públ / Energ Elétrica   ENEV3  ...     0.915          5.561\n",
              "81  Utilidade Públ / Energ Elétrica   EGIE3  ...     0.434          5.561\n",
              "82  Utilidade Públ / Energ Elétrica   EQTL3  ...     1.103          5.561\n",
              "83  Utilidade Públ / Energ Elétrica  TAEE11  ...     0.367          5.561\n",
              "\n",
              "[84 rows x 7 columns]"
            ]
          },
          "metadata": {
            "tags": []
          },
          "execution_count": 6
        }
      ]
    }
  ]
}