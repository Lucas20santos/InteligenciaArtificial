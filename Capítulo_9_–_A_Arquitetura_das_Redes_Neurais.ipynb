{
  "nbformat": 4,
  "nbformat_minor": 0,
  "metadata": {
    "colab": {
      "name": "Capítulo 9 – A Arquitetura das Redes Neurais.ipynb",
      "provenance": [],
      "authorship_tag": "ABX9TyNgpQT28XlDKrAxG8y94fJQ",
      "include_colab_link": true
    },
    "kernelspec": {
      "name": "python3",
      "display_name": "Python 3"
    },
    "language_info": {
      "name": "python"
    }
  },
  "cells": [
    {
      "cell_type": "markdown",
      "metadata": {
        "id": "view-in-github",
        "colab_type": "text"
      },
      "source": [
        "<a href=\"https://colab.research.google.com/github/Lucas20santos/InteligenciaArtificial/blob/main/Cap%C3%ADtulo_9_%E2%80%93_A_Arquitetura_das_Redes_Neurais.ipynb\" target=\"_parent\"><img src=\"https://colab.research.google.com/assets/colab-badge.svg\" alt=\"Open In Colab\"/></a>"
      ]
    },
    {
      "cell_type": "markdown",
      "metadata": {
        "id": "oTrRCGqaqw_E"
      },
      "source": [
        "# Capítulo 9 – A Arquitetura das Redes Neurais\n",
        "\n",
        "## Arquitetura básica de uma rede neural profunda\n",
        "\n",
        "- camada de entrada\n",
        "- camada oculta\n",
        "- camada de saída\n",
        "\n",
        "as arquitetura de redes neurais podem ser colacadas em três categorias especifica:\n",
        "\n",
        "1. Redes Neurais Feed-Forward\n",
        "2. Redes Recorrentes\n",
        "3. Redes Conectadas Simetricamente \n",
        "\n",
        "destas três categórias podemos listar dez arquitetura principal:\n",
        "\n",
        "- Redes Multilayer Perceptron\n",
        "- Redes Neurais Convolucionais\n",
        "- Redes Neurais Recorrentes\n",
        "- Long Short-Term Memory (LSTM)\n",
        "- Redes de Hopfield\n",
        "- Máquinas de Boltzmann\n",
        "- Deep Belief Network\n",
        "- Deep Auto-Encoders\n",
        "- Generative Adversarial Network\n",
        "- Deep Neural Network Capsules(lançado em 2017)"
      ]
    },
    {
      "cell_type": "markdown",
      "metadata": {
        "id": "NRoX7vcdqxKf"
      },
      "source": [
        ""
      ]
    }
  ]
}